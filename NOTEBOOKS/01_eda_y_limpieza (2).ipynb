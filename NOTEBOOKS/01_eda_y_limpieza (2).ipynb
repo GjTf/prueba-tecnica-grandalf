{
 "cells": [
  {
   "cell_type": "markdown",
   "id": "9b80d7b2",
   "metadata": {},
   "source": [
    "# 01 – EDA y Transformaciones\n",
    "**Prueba técnica – Ingeniero de Datos**\n",
    "\n",
    "Este notebook explora el dataset *dataset_salud_500k.csv*, identifica problemas de calidad y aplica transformaciones básicas para producir un archivo *clean_dataset.parquet* listo para carga.\n",
    "\n",
    "*Generado automáticamente: 2025-05-16 19:08:58*"
   ]
  },
  {
   "cell_type": "code",
   "execution_count": null,
   "id": "d8d1e750",
   "metadata": {},
   "outputs": [],
   "source": [
    "\n",
    "import pandas as pd\n",
    "import numpy as np\n",
    "import matplotlib.pyplot as plt\n",
    "from pathlib import Path\n",
    "from src.config import RAW_CSV_PATH, CLEAN_PARQUET_PATH, CLEAN_DATA_DIR\n",
    "from scipy import stats\n",
    "\n",
    "plt.style.use(\"default\")\n",
    "pd.set_option(\"display.max_columns\", None)\n",
    "\n",
    "SAMPLE_FRAC = 0.20\n",
    "RANDOM_STATE = 42"
   ]
  },
  {
   "cell_type": "code",
   "execution_count": null,
   "id": "80c14bea",
   "metadata": {},
   "outputs": [],
   "source": [
    "\n",
    "%%time\n",
    "df_full = pd.read_csv(RAW_CSV_PATH, low_memory=False)\n",
    "df = df_full.sample(frac=SAMPLE_FRAC, random_state=RANDOM_STATE).reset_index(drop=True)\n",
    "\n",
    "print(f\"Shape completo: {df_full.shape} | Muestra: {df.shape}\")\n",
    "display(df.head())\n",
    "display(df.info(memory_usage='deep'))\n"
   ]
  },
  {
   "cell_type": "markdown",
   "id": "2cc0a5e3",
   "metadata": {},
   "source": [
    "\n",
    "## Principales hallazgos del EDA rápido\n",
    "\n",
    "| Métrica | Valor aproximado |\n",
    "|---------|------------------|\n",
    "| Filas totales | 500 000 |\n",
    "| Columnas | 16 |\n",
    "| Nulos — `gender` | ~4 % |\n",
    "| Nulos — `visit_type` | ~1 % |\n",
    "| Edades negativas o >120 | ~6 % |\n",
    "| Costos = 0 USD | ~1 % |\n",
    "| Costos > 50 000 USD | <1 % |\n",
    "| Especialidades con typos | `Cardiolgia`, `Ginecplogía`, `Cirujia`, `Pediatra` |\n",
    "| Duplicados exactos | 0 % |\n"
   ]
  },
  {
   "cell_type": "code",
   "execution_count": null,
   "id": "60ba0564",
   "metadata": {},
   "outputs": [],
   "source": [
    "\n",
    "# Resumen numérico\n",
    "num_cols = df.select_dtypes(include='number').columns\n",
    "display(df[num_cols].describe().T)\n",
    "\n",
    "# Resumen categórico\n",
    "cat_cols = df.select_dtypes(exclude='number').columns\n",
    "display(df[cat_cols].describe().T)\n"
   ]
  },
  {
   "cell_type": "code",
   "execution_count": null,
   "id": "31e4dddf",
   "metadata": {},
   "outputs": [],
   "source": [
    "\n",
    "missing = (df.isna().mean()*100).round(2).sort_values(ascending=False)\n",
    "display(missing.to_frame('pct_missing'))\n"
   ]
  },
  {
   "cell_type": "code",
   "execution_count": null,
   "id": "e5526bc8",
   "metadata": {},
   "outputs": [],
   "source": [
    "\n",
    "fig, axes = plt.subplots(1, 2, figsize=(12,4))\n",
    "df['age'].dropna().hist(bins=40, ax=axes[0])\n",
    "axes[0].set_title('Distribución de edad')\n",
    "\n",
    "df['cost_usd'].dropna().hist(bins=60, ax=axes[1])\n",
    "axes[1].set_title('Distribución de costos (USD)')\n",
    "plt.tight_layout()\n"
   ]
  },
  {
   "cell_type": "markdown",
   "id": "41774c79",
   "metadata": {},
   "source": [
    "\n",
    "## Transformaciones y limpieza\n",
    "\n",
    "A continuación se aplican reglas mínimas para preparar **`df_clean`**:\n",
    "\n",
    "1. Columnas a `snake_case`.<br>\n",
    "2. Conversión `visit_date` a fecha válida.<br>\n",
    "3. Filtrado de edades (0–120).<br>\n",
    "4. Eliminación de costos negativos, imputación de nulos con la mediana.<br>\n",
    "5. `gender` faltante → `'unknown'`.<br>\n",
    "6. Normalización de especialidades con mapa de typos.<br>\n",
    "7. Guardado a Parquet.\n"
   ]
  },
  {
   "cell_type": "code",
   "execution_count": null,
   "id": "8d6075f8",
   "metadata": {},
   "outputs": [],
   "source": [
    "from src.config import CLEAN_DATA_DIR, CLEAN_PARQUET_PATH\n",
    "CLEAN_DATA_DIR.mkdir(parents=True, exist_ok=True)\n",
    "\n",
    "df_clean = df_full.copy()\n",
    "\n",
    "# 1. snake_case columnas\n",
    "df_clean.columns = (\n",
    "    df_clean.columns\n",
    "            .str.strip()\n",
    "            .str.lower()\n",
    "            .str.replace(r'[^a-z0-9]+', '_', regex=True)\n",
    "            .str.strip('_')\n",
    ")\n",
    "\n",
    "# 2. visit_date\n",
    "df_clean['visit_date'] = pd.to_datetime(df_clean['visit_date'], errors='coerce')\n",
    "df_clean = df_clean.dropna(subset=['visit_date'])\n",
    "\n",
    "# 3. edades válidas\n",
    "df_clean['age'] = pd.to_numeric(df_clean['age'], errors='coerce')\n",
    "df_clean = df_clean[df_clean['age'].between(0, 120, inclusive='both')]\n",
    "\n",
    "# 4. costos\n",
    "df_clean['cost_usd'] = pd.to_numeric(df_clean['cost_usd'], errors='coerce')\n",
    "df_clean = df_clean[df_clean['cost_usd'] >= 0]\n",
    "median_cost = df_clean['cost_usd'].median()\n",
    "df_clean['cost_usd'] = df_clean['cost_usd'].fillna(median_cost)\n",
    "\n",
    "# 5. gender\n",
    "df_clean['gender'] = df_clean['gender'].fillna('unknown')\n",
    "\n",
    "# 6. normalización especialidades\n",
    "typo_map = {\n",
    "    'Cardiolgia': 'Cardiología',\n",
    "    'Ginecplogía': 'Ginecología',\n",
    "    'Cirujia': 'Cirugía',\n",
    "    'Pediatra': 'Pediatría'\n",
    "}\n",
    "df_clean['specialty'] = df_clean['specialty'].replace(typo_map)\n",
    "\n",
    "# 7. Guardar\n",
    "out_path = CLEAN_PARQUET_PATH  # from config Path('clean_dataset.parquet')\n",
    "df_clean.to_parquet(out_path, index=False)\n",
    "print(f'Parquet guardado en {out_path.resolve()} – filas resultantes: {len(df_clean):,}')\n"
   ]
  }
 ],
 "metadata": {},
 "nbformat": 4,
 "nbformat_minor": 5
}
